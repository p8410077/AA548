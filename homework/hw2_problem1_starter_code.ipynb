{
  "cells": [
    {
      "cell_type": "markdown",
      "metadata": {
        "colab_type": "text",
        "id": "view-in-github"
      },
      "source": [
        "<a href=\"https://colab.research.google.com/github/UW-CTRL/AA548-spr2024/blob/main/homework/hw2_problem1_starter_code.ipynb\" target=\"_parent\"><img src=\"https://colab.research.google.com/assets/colab-badge.svg\" alt=\"Open In Colab\"/></a>"
      ]
    },
    {
      "cell_type": "code",
      "execution_count": null,
      "metadata": {
        "id": "ZU5hDYwpNeja"
      },
      "outputs": [],
      "source": [
        "%matplotlib inline\n",
        "\n",
        "import jax\n",
        "import jax.numpy as jnp\n",
        "import numpy as np\n",
        "from jax.typing import ArrayLike\n",
        "import matplotlib.pyplot as plt\n",
        "import cvxpy as cp\n",
        "\n",
        "from ipywidgets import interact, interactive, fixed, interact_manual\n",
        "import ipywidgets as widgets\n",
        "\n",
        "from matplotlib.collections import PatchCollection\n",
        "from matplotlib.patches import Rectangle\n",
        "#testing git"
      ]
    },
    {
      "cell_type": "markdown",
      "metadata": {
        "id": "8a8x6Fjm43Y5"
      },
      "source": [
        "## Problem 1"
      ]
    },
    {
      "cell_type": "code",
      "execution_count": null,
      "metadata": {
        "id": "vJ49t9aQNhiW"
      },
      "outputs": [],
      "source": [
        "# Here is a class describing a dynamically extended unicycle model.\n",
        "# It will be useful to test code in this problem\n",
        "# It will be used to test your code in the later problems.\n",
        "\n",
        "class DynamicallyExtendedUnicycle:\n",
        "\n",
        "    def __call__(self, state, control):\n",
        "        return self.drift_dynamics(state) + self.control_matrix(state) @ control\n",
        "\n",
        "    def drift_dynamics(self, state: ArrayLike) -> tuple:\n",
        "        '''\n",
        "        The \"drift\" term which is the nonlinear term that does not depend on control\n",
        "        Takes state as an input\n",
        "        '''\n",
        "        _, _, theta, v = state\n",
        "        return jnp.array([v * jnp.cos(theta),\n",
        "                        v * jnp.sin(theta),\n",
        "                        0.,\n",
        "                        0.])\n",
        "\n",
        "    def control_matrix(self, state: ArrayLike):\n",
        "        '''\n",
        "        The control matrix B(x) assuming a control affine system.\n",
        "        In general, it may be state depedent, thus takes state as an input\n",
        "        Here, we scaled the control input so we have omega and acceleration between [-1, 1]\n",
        "        '''\n",
        "        return jnp.array([[0, 0.],\n",
        "                          [0, 0.],\n",
        "                          [jnp.pi/2, 0.],\n",
        "                          [0., 3.]])\n",
        "\n",
        "\n",
        "dynamics = DynamicallyExtendedUnicycle()"
      ]
    },
    {
      "cell_type": "code",
      "execution_count": null,
      "metadata": {
        "id": "5gbLRihH43Y6"
      },
      "outputs": [],
      "source": [
        "def barrier_function(state, r=1):\n",
        "    x, y, theta, v = state\n",
        "    return x**2 + y**2 - r**2\n",
        "\n",
        "\n",
        "def control_lyapunov_function_1(state, goal=[3.5,0]):\n",
        "    x, y, _, _ = state\n",
        "    xg, yg = goal\n",
        "    return (x - xg)**2 + (y - yg)**2\n",
        "\n",
        "def control_lyapunov_function_2(state, goal=[3.5,0]):\n",
        "    x, y, theta, _ = state\n",
        "    xg, yg = goal\n",
        "    return (theta - jnp.arctan2(yg - y, xg - x))**2"
      ]
    },
    {
      "cell_type": "markdown",
      "metadata": {
        "id": "IPhk6Pkb43Y6"
      },
      "source": [
        "### 1(b)(i)"
      ]
    },
    {
      "cell_type": "code",
      "execution_count": null,
      "metadata": {
        "id": "-l1JH-jL43Y6"
      },
      "outputs": [],
      "source": [
        "\n",
        "\n",
        "def lie_derivative(func, vector_field_func, state):\n",
        "    '''\n",
        "    func: a function that takes in a state and returns a scalar value.\n",
        "          i.e., func(state) = scalar\n",
        "    vector_field_func: a function that takes in a state and returns a\n",
        "                      vector/matrix. i.e., func(state) = vector/matrix\n",
        "    state: an array describing the state which is the input to func and\n",
        "          vector_field_func\n",
        "    '''\n",
        "\n",
        "    ## put your code here##\n",
        "    pass\n",
        "    #######################\n",
        "\n"
      ]
    },
    {
      "cell_type": "markdown",
      "metadata": {
        "id": "3xmyo-A343Y7"
      },
      "source": [
        "### Fill this for 1(b)"
      ]
    },
    {
      "cell_type": "code",
      "execution_count": null,
      "metadata": {
        "id": "mxnzaMSy43Y7"
      },
      "outputs": [],
      "source": [
        "def control_constraint_degree_1(h, dynamics, state, alpha_func):\n",
        "    '''\n",
        "    h: a function that takes in a state and returns a scalar value.\n",
        "          i.e., h(state) = scalar\n",
        "    dynamics: the DynamicallyExtendedUnicycle class defined above\n",
        "    state: an array describing the state which is the input to func and\n",
        "          vector_field_func\n",
        "    alpha_func: the class K function\n",
        "\n",
        "    Compute the coefficients for the CBF/CLF inequality terms, assuming all the terms are moved to the LHS\n",
        "\n",
        "    Lfh(z) + Lgh(z)u + alpha(h(z))\n",
        "\n",
        "    Returns:\n",
        "    Lfbh\n",
        "    Lgh\n",
        "    bound (=alpha(h(z)))\n",
        "    Note: This function should work regardless of whether you are computer for CLF or CBF.\n",
        "    '''\n",
        "    ## put your code here##\n",
        "    pass\n",
        "    #######################\n",
        "\n",
        "\n",
        "def control_constraint_degree_2(h, dynamics, state, class_K_funcs):\n",
        "    '''\n",
        "    h: a function that takes in a state and returns a scalar value.\n",
        "          i.e., h(state) = scalar\n",
        "    dynamics: the DynamicallyExtendedUnicycle class defined above\n",
        "    state: an array describing the state which is the input to func and\n",
        "          vector_field_func\n",
        "    class_K_funcs: a 2-list of class K function [alpha_func_1, alpha_func_2]\n",
        "\n",
        "    Compute the coefficients for the CBF/CLF inequality terms, assuming all the terms are moved to the LHS\n",
        "\n",
        "    Lf2h(z) + LgLfh(z)u + Lfa1h(z) + a2_term\n",
        "\n",
        "    Returns:\n",
        "    Lf2h\n",
        "    LgLfh\n",
        "    Lfa1h\n",
        "    a2_term\n",
        "    '''\n",
        "    ## put your code here##\n",
        "    pass\n",
        "    #######################"
      ]
    },
    {
      "cell_type": "markdown",
      "metadata": {
        "id": "NMMUVfh743Y7"
      },
      "source": [
        "### 1(b)(ii) -- run this to print out values"
      ]
    },
    {
      "cell_type": "code",
      "execution_count": null,
      "metadata": {
        "id": "lcMyLQ2v43Y7"
      },
      "outputs": [],
      "source": [
        "alpha1 = lambda x: 2 * x\n",
        "alpha2 = lambda x: 2 * x\n",
        "test_state = jnp.array([-1.0, 2.0, 0.1, 1.0])\n",
        "\n",
        "\n",
        "L2fb, LgLfb, Lfa1b, a2_term = control_constraint_degree_2(barrier_function, dynamics, test_state, [alpha1, alpha2])\n",
        "print(\"Relative degree 2\")\n",
        "print(\"L2fb: %.2f\"%L2fb)\n",
        "print(\"LgLfb: [%.2f, %.2f]\"%(LgLfb[0], LgLfb[1]))\n",
        "print(\"Lfa1b: %.2f\"%Lfa1b)\n",
        "print(\"a2_term: %.2f\\n\"%(a2_term))\n",
        "\n",
        "# since the CBF is relative degree two, Lgb should be zero\n",
        "Lfb, Lgb, bound = control_constraint_degree_1(barrier_function, dynamics, test_state, alpha1)\n",
        "print(\"Relative degree 1\")\n",
        "print(\"Lfb: %.2f\"%Lfb)\n",
        "print(\"Lgb: [%.2f, %.2f]\"%(Lgb[0], Lgb[1]))\n",
        "print(\"bound: %.2f\\n\"%(bound))\n"
      ]
    },
    {
      "cell_type": "markdown",
      "metadata": {
        "id": "qmyQTqlr43Y7"
      },
      "source": [
        "### 1(b)(iii) -- run this to print out values"
      ]
    },
    {
      "cell_type": "code",
      "execution_count": null,
      "metadata": {
        "id": "t2DY9bpW43Y7"
      },
      "outputs": [],
      "source": [
        "beta1 = lambda x: 0.5 * x\n",
        "beta2 = lambda x: 0.5 * x\n",
        "test_state = jnp.array([-1.0, 2.0, 0.1, 1.0])\n",
        "\n",
        "\n",
        "L2fV1, LgLfV1, Lfb1V1, b2_term = control_constraint_degree_2(control_lyapunov_function_1, dynamics, test_state, [beta1, beta2])\n",
        "print(\"Relative degree 2\")\n",
        "print(\"L2fV1: %.2f\"%L2fV1)\n",
        "print(\"LgLfV1: [%.2f, %.2f]\"%(LgLfV1[0], LgLfV1[1]))\n",
        "print(\"Lfb1V1: %.2f\"%Lfb1V1)\n",
        "print(\"b2_term: %.2f\\n\"%(b2_term))\n",
        "\n",
        "\n",
        "# sanity check\n",
        "# since the CLF V1 is relative degree two, LgV1 should be zero\n",
        "LfV1, LgV1, bound = control_constraint_degree_1(control_lyapunov_function_1, dynamics, test_state, beta1)\n",
        "print(\"Relative degree 1\")\n",
        "print(\"LfV1: %.2f\"%LfV1)\n",
        "print(\"LgV1: [%.2f, %.2f]\"%(LgV1[0], LgV1[1]))\n",
        "print(\"bound: %.2f\\n\"%(bound))\n"
      ]
    },
    {
      "cell_type": "markdown",
      "metadata": {
        "id": "vO0Wm3ZV43Y7"
      },
      "source": [
        "### 1(b)(iv) -- run this to print out values"
      ]
    },
    {
      "cell_type": "code",
      "execution_count": null,
      "metadata": {
        "id": "t0ow_at-43Y8"
      },
      "outputs": [],
      "source": [
        "# since the CLF V2 is relative degree one, LgV2 should be non-zero\n",
        "test_state = jnp.array([-1.0, 2.0, 0.1, 1.0])\n",
        "\n",
        "LfV2, LgV2, bound = control_constraint_degree_1(control_lyapunov_function_2, dynamics, test_state, beta1)\n",
        "print(\"Relative degree 1\")\n",
        "print(\"LfV2: %.2f\"%LfV2)\n",
        "print(\"LgV2: [%.2f, %.2f]\"%(LgV2[0], LgV2[1]))\n",
        "print(\"bound: %.2f\\n\"%(bound))\n"
      ]
    },
    {
      "cell_type": "markdown",
      "metadata": {
        "id": "QJb4EyRl43Y8"
      },
      "source": [
        "### 1(c) -- set up the optimization problem here"
      ]
    },
    {
      "cell_type": "code",
      "execution_count": null,
      "metadata": {
        "id": "LNCsm4GX43Y8"
      },
      "outputs": [],
      "source": [
        "m = 2\n",
        "gamma1 = 0.05\n",
        "gamma2 = 10\n",
        "\n",
        "# use Parameter so the values can updated during the simulation loop as opposed to redefining a new problem each time step\n",
        "u = cp.Variable(m)\n",
        "epsilon = cp.Variable(m)\n",
        "dV1 = cp.Parameter(m)\n",
        "dV2 = cp.Parameter(m)\n",
        "db = cp.Parameter(m)\n",
        "V1 = cp.Parameter(1)\n",
        "V2 = cp.Parameter(1)\n",
        "b = cp.Parameter(1)\n",
        "\n",
        "\n",
        "#### put your code here ####\n",
        "# objective = ...\n",
        "# constraints = ...\n",
        "######\n",
        "\n",
        "prob = cp.Problem(objective, constraints)\n"
      ]
    },
    {
      "cell_type": "markdown",
      "metadata": {
        "id": "iBc1Z_l443Y8"
      },
      "source": [
        "### Run the following cells to simulate and plot results\n",
        "This uses your control_constraint_degree_1, control_constraint_degree_2, and cxvpy code defined above"
      ]
    },
    {
      "cell_type": "code",
      "execution_count": null,
      "metadata": {
        "id": "lVOAq64D43Y8"
      },
      "outputs": [],
      "source": [
        "dt = 0.1\n",
        "T_max = 200\n",
        "\n",
        "state0 = jnp.array([-3., 1., -np.pi/6, 0.5])\n",
        "states = [state0]\n",
        "controls = []\n",
        "\n",
        "for t in range(T_max):\n",
        "    state = states[t]\n",
        "\n",
        "    # V1 CLF constraint\n",
        "    L2fV1, LgLfV1, Lfb1V1, b2_term = control_constraint_degree_2(control_lyapunov_function_1, dynamics, state, [beta1, beta2])\n",
        "    dV1.project_and_assign(LgLfV1)\n",
        "    V1.project_and_assign(L2fV1 + Lfb1V1 + b2_term)\n",
        "\n",
        "    # V2 CLF constraint\n",
        "    LfV2, LgV2, bound = control_constraint_degree_1(control_lyapunov_function_2, dynamics, state, beta1)\n",
        "    dV2.project_and_assign(LgV2)\n",
        "    V2.project_and_assign(LfV2 + bound)\n",
        "\n",
        "    # b CBF constraint\n",
        "    L2fb, LgLfb, Lfa1b, a2_term = control_constraint_degree_2(barrier_function, dynamics, state, [alpha1, alpha2])\n",
        "    db.project_and_assign(LgLfb)\n",
        "    b.project_and_assign(L2fb + Lfa1b + a2_term)\n",
        "\n",
        "    clf_value = control_lyapunov_function_1(state).item()\n",
        "    if (clf_value < 1E-2) or state[0] > 3:\n",
        "        print(\"reached goal!!\")\n",
        "        break\n",
        "    prob.solve()\n",
        "\n",
        "    states.append(state + dynamics(state, u.value) * dt)\n",
        "    controls.append(u.value)\n",
        "states = jnp.stack(states)\n",
        "controls = jnp.stack(controls)\n"
      ]
    },
    {
      "cell_type": "code",
      "execution_count": null,
      "metadata": {
        "id": "T9uihfxa43Y8"
      },
      "outputs": [],
      "source": [
        "# CLF/CBF values over the trajectory\n",
        "clf_V1_values = jax.vmap(control_lyapunov_function_1, [0])(states)\n",
        "clf_V2_values = jax.vmap(control_lyapunov_function_2, [0])(states)\n",
        "cbf_b_values = jax.vmap(barrier_function, [0])(states)\n",
        "\n",
        "plt.figure(figsize=(12,3))\n",
        "plt.subplot(1,3,1)\n",
        "plt.plot(clf_V1_values)\n",
        "plt.title(\"CLF V1 (goal reaching)\")\n",
        "plt.grid()\n",
        "\n",
        "plt.subplot(1,3,2)\n",
        "plt.plot(clf_V2_values)\n",
        "plt.title(\"CLF V2 (pointing towards goal)\")\n",
        "plt.grid()\n",
        "\n",
        "plt.subplot(1,3,3)\n",
        "plt.plot(cbf_b_values)\n",
        "plt.title(\"CBF b (avoid obstacle)\")\n",
        "plt.grid()"
      ]
    },
    {
      "cell_type": "markdown",
      "metadata": {
        "id": "E-Lvyc8443Y8"
      },
      "source": [
        "### Plotting functions"
      ]
    },
    {
      "cell_type": "code",
      "execution_count": null,
      "metadata": {
        "id": "vWc_XblO43Y8"
      },
      "outputs": [],
      "source": [
        "# plotting set up\n",
        "lim_value = 4\n",
        "grid_points_N = 101\n",
        "grid_points = jnp.linspace(-lim_value, lim_value, grid_points_N)\n",
        "theta_points = jnp.linspace(-jnp.pi, jnp.pi, grid_points_N)\n",
        "X, Y, THETA = jnp.meshgrid(grid_points, grid_points, theta_points)\n",
        "batched_states = jnp.concatenate([X.reshape(-1,1), Y.reshape(-1,1), THETA.reshape(-1,1), THETA.reshape(-1,1) ], 1)\n",
        "clf_V1_values_grid = jax.vmap(control_lyapunov_function_1, [0])(batched_states)\n",
        "clf_V2_values_grid = jax.vmap(control_lyapunov_function_2, [0])(batched_states)\n",
        "\n",
        "X, Y = jnp.meshgrid(grid_points, grid_points)\n",
        "batched_states = jnp.concatenate([X.reshape(-1,1), Y.reshape(-1,1), X.reshape(-1,1), X.reshape(-1,1) ], 1)\n",
        "cbf_values_grid = jax.vmap(barrier_function, [0])(batched_states)\n",
        "\n",
        "xmin = -3\n",
        "xmax = 3\n",
        "ymin = -3\n",
        "ymax = 3\n"
      ]
    },
    {
      "cell_type": "code",
      "execution_count": null,
      "metadata": {
        "id": "7a0H_Zkx43Y9"
      },
      "outputs": [],
      "source": [
        "\n",
        "def rotate_vector_ccw(vector, theta):\n",
        "    return jnp.array([[jnp.cos(theta), -jnp.sin(theta)],\n",
        "                     [jnp.sin(theta), jnp.cos(theta)]]) @ vector\n",
        "\n",
        "def plot_car(ax, state, car_length=0.5, car_width=0.3, color='lightskyblue', alpha=0.6):\n",
        "    pos = state[:2]\n",
        "    theta = state[2]\n",
        "    left_corner = pos + rotate_vector_ccw(0.5 * jnp.array([-car_length, -car_width]), theta)\n",
        "    car = Rectangle(left_corner, car_length, car_width, angle=theta * 180 / jnp.pi, color=color, alpha=alpha)\n",
        "    ax.add_patch(car)\n",
        "    v_vector = jnp.stack([pos, pos + 3 * car_length / 4 * jnp.array([np.cos(theta), np.sin(theta)])])\n",
        "    ax.plot(v_vector[:,0], v_vector[:,1])\n",
        "    return ax\n",
        "\n",
        "def plot_halfspace_lessthan(ax, a, b, c, xmin, xmax, ymin, ymax, color, alpha):\n",
        "    if b == 0:\n",
        "        if c == 0:\n",
        "            if a < 0:\n",
        "                ax.fill([-c/a, xmax, xmax, -c/a], [ymin, ymin, ymax, ymax], color=color, alpha=alpha)\n",
        "            else:\n",
        "                ax.fill([-c/a, xmin, xmin, -c/a], [ymin, ymin, ymax, ymax], color=color, alpha=alpha)\n",
        "        else:\n",
        "            if a < 0:\n",
        "                ax.fill([-c/a, xmax, xmax, -c/a], [ymin, ymin, ymax, ymax], color=color, alpha=alpha)\n",
        "            else:\n",
        "                ax.fill([-c/a, xmin, xmin, -c/a], [ymin, ymin, ymax, ymax], color=color, alpha=alpha)\n",
        "    else:\n",
        "        y1 = -(a * xmin + c ) / b\n",
        "        y2 = -(a * xmax + c ) / b\n",
        "        if b > 0:\n",
        "            plt.fill_between([xmin, xmax], [y1, y2], [ymin, ymin], color=color, alpha=alpha)\n",
        "        else:\n",
        "            plt.fill_between([xmin, xmax], [ymax, ymax], [y1, y2], color=color, alpha=alpha)\n",
        "\n",
        "    return ax\n",
        "\n",
        "def plot_halfspace_greaterthan(ax, a, b, c, xmin, xmax, ymin, ymax, color, alpha):\n",
        "    return plot_halfspace_lessthan(ax, -a, -b, -c, xmin, xmax, ymin, ymax, color, alpha)\n",
        "\n",
        "\n"
      ]
    },
    {
      "cell_type": "code",
      "execution_count": null,
      "metadata": {
        "id": "czqvteSr43Y9"
      },
      "outputs": [],
      "source": [
        "def goo(t):\n",
        "    state = states[t]\n",
        "    control = controls[t]\n",
        "    x, y, theta, v = state\n",
        "    omega, a = control\n",
        "    fig, axs = plt.subplots(1, 3, figsize=(16,4))\n",
        "    ax = axs[0]\n",
        "    ax.plot(states[:t,0], states[:t,1], linestyle='--', color='black', zorder=5)\n",
        "    ax.contourf(X[:,:], Y[:,:], cbf_values_grid.reshape(grid_points_N, grid_points_N), 20, alpha=0.6, cmap=\"gist_gray\")\n",
        "    ax.contour(X[:,:], Y[:,:], cbf_values_grid.reshape(grid_points_N, grid_points_N), [0,.01], alpha=0.6, colors=\"black\")\n",
        "\n",
        "    plot_car(ax, state)\n",
        "    ax.scatter([x], [y], color=\"blue\", s=10, zorder=5)\n",
        "    ax.set_title(\"CBF value = %.2f (blue dot should avoid circle)\"%barrier_function(state))\n",
        "    ax.axis(\"equal\")\n",
        "    ax.set_xlim([xmin, xmax])\n",
        "    ax.set_ylim([ymin, ymax])\n",
        "    ax.grid()\n",
        "\n",
        "    ax = axs[1]\n",
        "    ax.plot(controls[:t,0], label=\"omega\")\n",
        "    ax.plot(controls[:t,1], label=\"accel\")\n",
        "    ax.set_xlim([0., states.shape[0]])\n",
        "    ax.set_ylim([-1.1, 1.1])\n",
        "    ax.grid()\n",
        "    ax.legend()\n",
        "\n",
        "\n",
        "    ax = axs[2]\n",
        "    ax.scatter([omega], [a], color=\"blue\", s=50, zorder=5)\n",
        "\n",
        "    L2fb, LgLfb, Lfa1b, a2_term = control_constraint_degree_2(barrier_function, dynamics, state, [alpha1, alpha2])\n",
        "    plot_halfspace_lessthan(ax, LgLfb[0], LgLfb[1], L2fb + Lfa1b + a2_term, -1, 1, -1, 1, \"lightskyblue\", 0.6)\n",
        "\n",
        "    L2fV1, LgLfV1, Lfb1V1, b2_term = control_constraint_degree_2(control_lyapunov_function_1, dynamics, state, [beta1, beta2])\n",
        "    plot_halfspace_greaterthan(ax, LgLfV1[0], LgLfV1[1], L2fV1 + Lfb1V1 + b2_term, -1, 1, -1, 1, \"salmon\", 0.4)\n",
        "\n",
        "    LfV2, LgV2, bound = control_constraint_degree_1(control_lyapunov_function_2, dynamics, state, beta1)\n",
        "    plot_halfspace_greaterthan(ax, LgV2[0], LgV2[1], LfV2 + bound, -1, 1, -1, 1, \"salmon\", 0.4)\n",
        "\n",
        "    ax.set_title(\"Control Constraints (white is feasible)\")\n",
        "    ax.set_xlim([-1., 1.])\n",
        "    ax.set_ylim([-1., 1.])\n",
        "    ax.grid()\n",
        "    ax.set_xlabel(\"\\omega\")\n",
        "    ax.set_ylabel(\"$a$\")\n",
        "\n",
        "\n",
        "\n"
      ]
    },
    {
      "cell_type": "markdown",
      "metadata": {
        "id": "JYPNONN043Y9"
      },
      "source": [
        "### Run this for an interactive widget\n",
        "but may not be rendered properly in colab, so feel free to not run the following cell."
      ]
    },
    {
      "cell_type": "code",
      "execution_count": null,
      "metadata": {
        "id": "GqZsFRqy43Y9"
      },
      "outputs": [],
      "source": [
        "interact(goo, t=(0,states.shape[0]-1))"
      ]
    },
    {
      "cell_type": "markdown",
      "metadata": {
        "id": "fhNR9Tg_43Y9"
      },
      "source": [
        "### Include this plot in your write up\n",
        "Just shows the plot for a selected time step"
      ]
    },
    {
      "cell_type": "code",
      "execution_count": null,
      "metadata": {
        "id": "vg43Mrd-43Y9"
      },
      "outputs": [],
      "source": [
        "goo(states.shape[0]-1)"
      ]
    },
    {
      "cell_type": "code",
      "execution_count": null,
      "metadata": {
        "id": "HP2NOonH43Y9"
      },
      "outputs": [],
      "source": []
    }
  ],
  "metadata": {
    "colab": {
      "include_colab_link": true,
      "provenance": []
    },
    "kernelspec": {
      "display_name": "Python 3 (ipykernel)",
      "language": "python",
      "name": "python3"
    },
    "language_info": {
      "codemirror_mode": {
        "name": "ipython",
        "version": 3
      },
      "file_extension": ".py",
      "mimetype": "text/x-python",
      "name": "python",
      "nbconvert_exporter": "python",
      "pygments_lexer": "ipython3",
      "version": "3.9.6"
    }
  },
  "nbformat": 4,
  "nbformat_minor": 0
}
